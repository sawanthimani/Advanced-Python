{
 "cells": [
  {
   "cell_type": "code",
   "execution_count": null,
   "id": "b67c9438",
   "metadata": {},
   "outputs": [
    {
     "data": {
      "text/plain": [
       "int"
      ]
     },
     "execution_count": 1,
     "metadata": {},
     "output_type": "execute_result"
    }
   ],
   "source": [
    "num = 47\n",
    "type(num)\n"
   ]
  },
  {
   "cell_type": "code",
   "execution_count": 2,
   "id": "86b635e0",
   "metadata": {},
   "outputs": [
    {
     "name": "stdout",
     "output_type": "stream",
     "text": [
      "<class 'int'>\n"
     ]
    }
   ],
   "source": [
    "print(type(num))"
   ]
  },
  {
   "cell_type": "code",
   "execution_count": null,
   "id": "4b744936",
   "metadata": {},
   "outputs": [
    {
     "name": "stdout",
     "output_type": "stream",
     "text": [
      "<class 'float'>\n"
     ]
    }
   ],
   "source": [
    "num = 47.23\n",
    "type(num)\n",
    "print(type(num))\n"
   ]
  },
  {
   "cell_type": "code",
   "execution_count": 7,
   "id": "f546c1da",
   "metadata": {},
   "outputs": [
    {
     "name": "stdout",
     "output_type": "stream",
     "text": [
      "<class 'bool'>\n"
     ]
    }
   ],
   "source": [
    "bol = True\n",
    "type(bol)\n",
    "print(type(bol))"
   ]
  },
  {
   "cell_type": "code",
   "execution_count": 24,
   "id": "6606225e",
   "metadata": {},
   "outputs": [
    {
     "name": "stdout",
     "output_type": "stream",
     "text": [
      "<class 'str'>\n"
     ]
    }
   ],
   "source": [
    "str = 'ETLHive'\n",
    "type(str )\n",
    "print(type(str))"
   ]
  },
  {
   "cell_type": "code",
   "execution_count": 44,
   "id": "8531adaa",
   "metadata": {},
   "outputs": [
    {
     "name": "stdout",
     "output_type": "stream",
     "text": [
      "<class 'dict'>\n"
     ]
    }
   ],
   "source": [
    "d = {'name': ['Hims','Seeta','Geeta'], 'Occupation': ['Data analyst','Doctor', 'Engineer'], 'salary': [1,2,3]}\n",
    "print(type(d))"
   ]
  },
  {
   "cell_type": "code",
   "execution_count": 45,
   "id": "69cbef57",
   "metadata": {},
   "outputs": [],
   "source": [
    "import pandas as pdf\n"
   ]
  },
  {
   "cell_type": "code",
   "execution_count": 46,
   "id": "4a5d84ee",
   "metadata": {},
   "outputs": [],
   "source": [
    "df = pdf.DataFrame(d)"
   ]
  },
  {
   "cell_type": "code",
   "execution_count": 47,
   "id": "cc5fd180",
   "metadata": {},
   "outputs": [
    {
     "data": {
      "text/html": [
       "<div>\n",
       "<style scoped>\n",
       "    .dataframe tbody tr th:only-of-type {\n",
       "        vertical-align: middle;\n",
       "    }\n",
       "\n",
       "    .dataframe tbody tr th {\n",
       "        vertical-align: top;\n",
       "    }\n",
       "\n",
       "    .dataframe thead th {\n",
       "        text-align: right;\n",
       "    }\n",
       "</style>\n",
       "<table border=\"1\" class=\"dataframe\">\n",
       "  <thead>\n",
       "    <tr style=\"text-align: right;\">\n",
       "      <th></th>\n",
       "      <th>name</th>\n",
       "      <th>Occupation</th>\n",
       "      <th>salary</th>\n",
       "    </tr>\n",
       "  </thead>\n",
       "  <tbody>\n",
       "    <tr>\n",
       "      <th>0</th>\n",
       "      <td>Hims</td>\n",
       "      <td>Data analyst</td>\n",
       "      <td>1</td>\n",
       "    </tr>\n",
       "    <tr>\n",
       "      <th>1</th>\n",
       "      <td>Seeta</td>\n",
       "      <td>Doctor</td>\n",
       "      <td>2</td>\n",
       "    </tr>\n",
       "    <tr>\n",
       "      <th>2</th>\n",
       "      <td>Geeta</td>\n",
       "      <td>Engineer</td>\n",
       "      <td>3</td>\n",
       "    </tr>\n",
       "  </tbody>\n",
       "</table>\n",
       "</div>"
      ],
      "text/plain": [
       "    name    Occupation  salary\n",
       "0   Hims  Data analyst       1\n",
       "1  Seeta        Doctor       2\n",
       "2  Geeta      Engineer       3"
      ]
     },
     "execution_count": 47,
     "metadata": {},
     "output_type": "execute_result"
    }
   ],
   "source": [
    "df"
   ]
  },
  {
   "cell_type": "code",
   "execution_count": 48,
   "id": "11da0283",
   "metadata": {},
   "outputs": [
    {
     "name": "stdout",
     "output_type": "stream",
     "text": [
      "<class 'pandas.core.frame.DataFrame'>\n"
     ]
    }
   ],
   "source": [
    "print(type(df))"
   ]
  },
  {
   "cell_type": "code",
   "execution_count": 49,
   "id": "dee6d31a",
   "metadata": {},
   "outputs": [
    {
     "name": "stdout",
     "output_type": "stream",
     "text": [
      "<class 'pandas.core.series.Series'>\n"
     ]
    }
   ],
   "source": [
    "print(type(df.name))"
   ]
  },
  {
   "cell_type": "code",
   "execution_count": 50,
   "id": "6073aa7e",
   "metadata": {},
   "outputs": [
    {
     "data": {
      "text/plain": [
       "(3, 3)"
      ]
     },
     "execution_count": 50,
     "metadata": {},
     "output_type": "execute_result"
    }
   ],
   "source": [
    "#Attributes\n",
    "df.shape"
   ]
  },
  {
   "cell_type": "code",
   "execution_count": 51,
   "id": "91bae603",
   "metadata": {},
   "outputs": [
    {
     "data": {
      "text/plain": [
       "Index(['name', 'Occupation', 'salary'], dtype='object')"
      ]
     },
     "execution_count": 51,
     "metadata": {},
     "output_type": "execute_result"
    }
   ],
   "source": [
    "df.columns"
   ]
  },
  {
   "cell_type": "code",
   "execution_count": 52,
   "id": "0b279769",
   "metadata": {},
   "outputs": [
    {
     "data": {
      "text/plain": [
       "RangeIndex(start=0, stop=3, step=1)"
      ]
     },
     "execution_count": 52,
     "metadata": {},
     "output_type": "execute_result"
    }
   ],
   "source": [
    "df.index"
   ]
  },
  {
   "cell_type": "code",
   "execution_count": 53,
   "id": "d402458a",
   "metadata": {},
   "outputs": [
    {
     "data": {
      "text/plain": [
       "[0, 1, 2]"
      ]
     },
     "execution_count": 53,
     "metadata": {},
     "output_type": "execute_result"
    }
   ],
   "source": [
    "list(df.index)"
   ]
  },
  {
   "cell_type": "code",
   "execution_count": 54,
   "id": "0ab59134",
   "metadata": {},
   "outputs": [
    {
     "data": {
      "text/plain": [
       "9"
      ]
     },
     "execution_count": 54,
     "metadata": {},
     "output_type": "execute_result"
    }
   ],
   "source": [
    "df.size"
   ]
  },
  {
   "cell_type": "code",
   "execution_count": 55,
   "id": "cef38fcb",
   "metadata": {},
   "outputs": [
    {
     "data": {
      "text/plain": [
       "array([['Hims', 'Data analyst', 1],\n",
       "       ['Seeta', 'Doctor', 2],\n",
       "       ['Geeta', 'Engineer', 3]], dtype=object)"
      ]
     },
     "execution_count": 55,
     "metadata": {},
     "output_type": "execute_result"
    }
   ],
   "source": [
    "df.values"
   ]
  },
  {
   "cell_type": "code",
   "execution_count": 56,
   "id": "69b541f0",
   "metadata": {},
   "outputs": [
    {
     "data": {
      "text/plain": [
       "name          object\n",
       "Occupation    object\n",
       "salary         int64\n",
       "dtype: object"
      ]
     },
     "execution_count": 56,
     "metadata": {},
     "output_type": "execute_result"
    }
   ],
   "source": [
    "df.dtypes"
   ]
  },
  {
   "cell_type": "code",
   "execution_count": 40,
   "id": "f6b4b00a",
   "metadata": {},
   "outputs": [
    {
     "name": "stdout",
     "output_type": "stream",
     "text": [
      "<class 'pandas.core.frame.DataFrame'>\n",
      "RangeIndex: 3 entries, 0 to 2\n",
      "Data columns (total 2 columns):\n",
      " #   Column      Non-Null Count  Dtype \n",
      "---  ------      --------------  ----- \n",
      " 0   name        3 non-null      object\n",
      " 1   Occupation  3 non-null      object\n",
      "dtypes: object(2)\n",
      "memory usage: 180.0+ bytes\n"
     ]
    }
   ],
   "source": [
    "#functions\n",
    "df.info()"
   ]
  },
  {
   "cell_type": "code",
   "execution_count": 58,
   "id": "8185dd37",
   "metadata": {},
   "outputs": [
    {
     "data": {
      "text/plain": [
       "name\n",
       "Geeta    3.0\n",
       "Hims     1.0\n",
       "Seeta    2.0\n",
       "Name: salary, dtype: float64"
      ]
     },
     "execution_count": 58,
     "metadata": {},
     "output_type": "execute_result"
    }
   ],
   "source": [
    "df.groupby('name').salary.mean()"
   ]
  },
  {
   "cell_type": "code",
   "execution_count": 59,
   "id": "bd00b377",
   "metadata": {},
   "outputs": [
    {
     "name": "stdout",
     "output_type": "stream",
     "text": [
      "2.0\n"
     ]
    }
   ],
   "source": [
    "print(df.salary.mean())"
   ]
  },
  {
   "cell_type": "code",
   "execution_count": 60,
   "id": "2f135be7",
   "metadata": {},
   "outputs": [
    {
     "name": "stdout",
     "output_type": "stream",
     "text": [
      "6\n"
     ]
    }
   ],
   "source": [
    "print(df.salary.sum())"
   ]
  },
  {
   "cell_type": "code",
   "execution_count": 73,
   "id": "04a51c65",
   "metadata": {},
   "outputs": [],
   "source": [
    "class person:\n",
    "    def __init__(self, name, age, gender, occupation):\n",
    "        self.name = name\n",
    "        self.age = age\n",
    "        self.gender = gender\n",
    "        self.occupation = occupation\n",
    "    def talk(self): \n",
    "        print(f'my name is:{self.name}') \n",
    "        print(f'my age is:{self.age}') \n",
    "        print(f'gender is:{self.gender}') \n",
    "        print(f'occupation is:{self.occupation}') "
   ]
  },
  {
   "cell_type": "code",
   "execution_count": 75,
   "id": "2afe1489",
   "metadata": {},
   "outputs": [],
   "source": [
    "p1 = person(name = 'HimaniS', age= 28, gender= 'female', occupation= 'data analyst')"
   ]
  },
  {
   "cell_type": "code",
   "execution_count": 76,
   "id": "15348f13",
   "metadata": {},
   "outputs": [
    {
     "data": {
      "text/plain": [
       "<__main__.person at 0x26189d44b00>"
      ]
     },
     "execution_count": 76,
     "metadata": {},
     "output_type": "execute_result"
    }
   ],
   "source": [
    "p1"
   ]
  },
  {
   "cell_type": "code",
   "execution_count": 79,
   "id": "2bfa091f",
   "metadata": {},
   "outputs": [
    {
     "data": {
      "text/plain": [
       "'HimaniS'"
      ]
     },
     "execution_count": 79,
     "metadata": {},
     "output_type": "execute_result"
    }
   ],
   "source": [
    "p1.name"
   ]
  },
  {
   "cell_type": "code",
   "execution_count": 80,
   "id": "8cd3bda2",
   "metadata": {},
   "outputs": [
    {
     "data": {
      "text/plain": [
       "'data analyst'"
      ]
     },
     "execution_count": 80,
     "metadata": {},
     "output_type": "execute_result"
    }
   ],
   "source": [
    "p1.occupation"
   ]
  },
  {
   "cell_type": "code",
   "execution_count": 81,
   "id": "82357b4b",
   "metadata": {},
   "outputs": [
    {
     "data": {
      "text/plain": [
       "'female'"
      ]
     },
     "execution_count": 81,
     "metadata": {},
     "output_type": "execute_result"
    }
   ],
   "source": [
    "p1.gender"
   ]
  },
  {
   "cell_type": "code",
   "execution_count": 82,
   "id": "0459bb1f",
   "metadata": {},
   "outputs": [
    {
     "data": {
      "text/plain": [
       "28"
      ]
     },
     "execution_count": 82,
     "metadata": {},
     "output_type": "execute_result"
    }
   ],
   "source": [
    "p1.age"
   ]
  },
  {
   "cell_type": "code",
   "execution_count": 83,
   "id": "f6489426",
   "metadata": {},
   "outputs": [
    {
     "name": "stdout",
     "output_type": "stream",
     "text": [
      "my name is:HimaniS\n",
      "my age is:28\n",
      "gender is:female\n",
      "occupation is:data analyst\n"
     ]
    }
   ],
   "source": [
    "p1.talk()"
   ]
  },
  {
   "cell_type": "code",
   "execution_count": 84,
   "id": "e102546c",
   "metadata": {},
   "outputs": [],
   "source": [
    "p2 = person(name = 'Vandu', age= 30, gender= 'female', occupation= 'doctor')"
   ]
  },
  {
   "cell_type": "code",
   "execution_count": 85,
   "id": "892c8f44",
   "metadata": {},
   "outputs": [
    {
     "name": "stdout",
     "output_type": "stream",
     "text": [
      "my name is:Vandu\n",
      "my age is:30\n",
      "gender is:female\n",
      "occupation is:doctor\n"
     ]
    }
   ],
   "source": [
    "p2.talk()"
   ]
  },
  {
   "cell_type": "code",
   "execution_count": 86,
   "id": "2f719037",
   "metadata": {},
   "outputs": [
    {
     "data": {
      "text/plain": [
       "'doctor'"
      ]
     },
     "execution_count": 86,
     "metadata": {},
     "output_type": "execute_result"
    }
   ],
   "source": [
    "p2.occupation"
   ]
  },
  {
   "cell_type": "code",
   "execution_count": 101,
   "id": "c4c5ce48",
   "metadata": {},
   "outputs": [],
   "source": [
    "from dataclasses import dataclass\n",
    "from typing import Literal"
   ]
  },
  {
   "cell_type": "code",
   "execution_count": 108,
   "id": "ee17ba9c",
   "metadata": {},
   "outputs": [],
   "source": [
    "@dataclass\n",
    "class student:\n",
    "    name : str\n",
    "    age : int\n",
    "    marks : float | int\n",
    "    hobbies : list[str]\n",
    "    gender : Literal['male', 'female']\n",
    "\n",
    "    def get_info(self):\n",
    "        print(f'my name is:{self.name}') \n",
    "        print(f'my age is:{self.age}') \n",
    "        print(f'gender is:{self.marks}') \n",
    "        print(f'occupation is:{self.hobbies}')\n",
    "        print(f'gender is:{self.gender}')  \n",
    "\n",
    "\n",
    "\n"
   ]
  },
  {
   "cell_type": "code",
   "execution_count": 109,
   "id": "94feea02",
   "metadata": {},
   "outputs": [],
   "source": [
    "s1 = student(name = 'Vanshu', age= 17, gender= 'female', hobbies = 'reading', marks = 99)"
   ]
  },
  {
   "cell_type": "code",
   "execution_count": 110,
   "id": "d904505e",
   "metadata": {},
   "outputs": [
    {
     "data": {
      "text/plain": [
       "student(name='Vanshu', age=17, marks=99, hobbies='reading', gender='female')"
      ]
     },
     "execution_count": 110,
     "metadata": {},
     "output_type": "execute_result"
    }
   ],
   "source": [
    "s1"
   ]
  },
  {
   "cell_type": "code",
   "execution_count": 112,
   "id": "2c7e6610",
   "metadata": {},
   "outputs": [
    {
     "data": {
      "text/plain": [
       "'Vanshu'"
      ]
     },
     "execution_count": 112,
     "metadata": {},
     "output_type": "execute_result"
    }
   ],
   "source": [
    "s1.name"
   ]
  },
  {
   "cell_type": "code",
   "execution_count": 114,
   "id": "0fb7c391",
   "metadata": {},
   "outputs": [
    {
     "data": {
      "text/plain": [
       "99"
      ]
     },
     "execution_count": 114,
     "metadata": {},
     "output_type": "execute_result"
    }
   ],
   "source": [
    "s1.marks"
   ]
  },
  {
   "cell_type": "markdown",
   "id": "cb48c540",
   "metadata": {},
   "source": []
  },
  {
   "cell_type": "code",
   "execution_count": 115,
   "id": "69b69540",
   "metadata": {},
   "outputs": [
    {
     "name": "stdout",
     "output_type": "stream",
     "text": [
      "my name is:Vanshu\n",
      "my age is:17\n",
      "gender is:99\n",
      "occupation is:reading\n",
      "gender is:female\n"
     ]
    }
   ],
   "source": [
    "s1.get_info()"
   ]
  },
  {
   "cell_type": "code",
   "execution_count": 153,
   "id": "d3309638",
   "metadata": {},
   "outputs": [],
   "source": [
    "@dataclass\n",
    "class Account:\n",
    "    ac_no : int\n",
    "    ac_name : str\n",
    "    bal : int| float\n",
    "\n",
    "    def check_balance(self):\n",
    "        print(f'current account balance is:{self.bal}')\n",
    "\n",
    "    def deposit(self, amt: int|float):\n",
    "        print(f'amount deposited in account:{self.ac_no}') \n",
    "        self.bal = self.bal + amt\n",
    "        self.check_balance()\n",
    "\n",
    "    def withdraw(self, amt: int|float):\n",
    "        if self.bal < amt:\n",
    "            print('insufficient balance')\n",
    "        else: \n",
    "            self.bal = self.bal - amt\n",
    "            print(f'amount withdrawn is {amt}')\n",
    "            self.check_balance()\n",
    "\n",
    "    def transfer(self, amt: int|float, ac = 'Account'):\n",
    "        self.withdraw(amt)\n",
    "        ac.deposit(amt)\n",
    "\n",
    "\n",
    "\n",
    "        "
   ]
  },
  {
   "cell_type": "code",
   "execution_count": 156,
   "id": "453d509f",
   "metadata": {},
   "outputs": [],
   "source": [
    "a1 = Account(123, 'JSB', 50000)"
   ]
  },
  {
   "cell_type": "code",
   "execution_count": 157,
   "id": "97a9127c",
   "metadata": {},
   "outputs": [
    {
     "name": "stdout",
     "output_type": "stream",
     "text": [
      "amount deposited in account:123\n",
      "current account balance is:50200\n"
     ]
    }
   ],
   "source": [
    "a1.deposit(200)"
   ]
  },
  {
   "cell_type": "code",
   "execution_count": 158,
   "id": "9fde5f26",
   "metadata": {},
   "outputs": [
    {
     "name": "stdout",
     "output_type": "stream",
     "text": [
      "amount withdrawn is 200\n",
      "current account balance is:50000\n"
     ]
    }
   ],
   "source": [
    "a1.withdraw(200)"
   ]
  },
  {
   "cell_type": "code",
   "execution_count": 159,
   "id": "990a6616",
   "metadata": {},
   "outputs": [
    {
     "name": "stdout",
     "output_type": "stream",
     "text": [
      "amount withdrawn is 3000\n",
      "current account balance is:47000\n"
     ]
    },
    {
     "ename": "AttributeError",
     "evalue": "'str' object has no attribute 'deposit'",
     "output_type": "error",
     "traceback": [
      "\u001b[31m---------------------------------------------------------------------------\u001b[39m",
      "\u001b[31mAttributeError\u001b[39m                            Traceback (most recent call last)",
      "\u001b[36mCell\u001b[39m\u001b[36m \u001b[39m\u001b[32mIn[159]\u001b[39m\u001b[32m, line 1\u001b[39m\n\u001b[32m----> \u001b[39m\u001b[32m1\u001b[39m \u001b[43ma1\u001b[49m\u001b[43m.\u001b[49m\u001b[43mtransfer\u001b[49m\u001b[43m(\u001b[49m\u001b[32;43m3000\u001b[39;49m\u001b[43m)\u001b[49m\n",
      "\u001b[36mCell\u001b[39m\u001b[36m \u001b[39m\u001b[32mIn[153]\u001b[39m\u001b[32m, line 25\u001b[39m, in \u001b[36mAccount.transfer\u001b[39m\u001b[34m(self, amt, ac)\u001b[39m\n\u001b[32m     23\u001b[39m \u001b[38;5;28;01mdef\u001b[39;00m\u001b[38;5;250m \u001b[39m\u001b[34mtransfer\u001b[39m(\u001b[38;5;28mself\u001b[39m, amt: \u001b[38;5;28mint\u001b[39m|\u001b[38;5;28mfloat\u001b[39m, ac = \u001b[33m'\u001b[39m\u001b[33mAccount\u001b[39m\u001b[33m'\u001b[39m):\n\u001b[32m     24\u001b[39m     \u001b[38;5;28mself\u001b[39m.withdraw(amt)\n\u001b[32m---> \u001b[39m\u001b[32m25\u001b[39m     \u001b[43mac\u001b[49m\u001b[43m.\u001b[49m\u001b[43mdeposit\u001b[49m(amt)\n",
      "\u001b[31mAttributeError\u001b[39m: 'str' object has no attribute 'deposit'"
     ]
    }
   ],
   "source": [
    "a1.transfer(3000)"
   ]
  },
  {
   "cell_type": "code",
   "execution_count": 155,
   "id": "c63c6f3b",
   "metadata": {},
   "outputs": [],
   "source": [
    "a2 = Account(234, 'asd', 300)"
   ]
  },
  {
   "cell_type": "code",
   "execution_count": 161,
   "id": "826e7dc6",
   "metadata": {},
   "outputs": [
    {
     "name": "stdout",
     "output_type": "stream",
     "text": [
      "current account balance is:47000\n"
     ]
    }
   ],
   "source": [
    "a1.check_balance()"
   ]
  },
  {
   "cell_type": "code",
   "execution_count": 162,
   "id": "747feac9",
   "metadata": {},
   "outputs": [
    {
     "name": "stdout",
     "output_type": "stream",
     "text": [
      "current account balance is:300\n"
     ]
    }
   ],
   "source": [
    "a2.check_balance()"
   ]
  },
  {
   "cell_type": "code",
   "execution_count": 163,
   "id": "05c84cda",
   "metadata": {},
   "outputs": [
    {
     "name": "stdout",
     "output_type": "stream",
     "text": [
      "amount withdrawn is 3000\n",
      "current account balance is:44000\n",
      "amount deposited in account:234\n",
      "current account balance is:3300\n"
     ]
    }
   ],
   "source": [
    "a1.transfer(3000, a2)"
   ]
  },
  {
   "cell_type": "code",
   "execution_count": null,
   "id": "510955f4",
   "metadata": {},
   "outputs": [],
   "source": [
    "@dataclass\n",
    "class Triangle:\n",
    "    height : int\n",
    "    base : int\n",
    "    area : int\n",
    "    \n",
    "    def area_of_triangle(self):\n",
    "      self.area = 0.5 * self.height * self.base\n",
    "      print(f'area of triangle is:{self.area}') \n"
   ]
  },
  {
   "cell_type": "code",
   "execution_count": 181,
   "id": "f7c1eb9c",
   "metadata": {},
   "outputs": [
    {
     "ename": "AttributeError",
     "evalue": "'Account' object has no attribute 'area_of_triangle'",
     "output_type": "error",
     "traceback": [
      "\u001b[31m---------------------------------------------------------------------------\u001b[39m",
      "\u001b[31mAttributeError\u001b[39m                            Traceback (most recent call last)",
      "\u001b[36mCell\u001b[39m\u001b[36m \u001b[39m\u001b[32mIn[181]\u001b[39m\u001b[32m, line 1\u001b[39m\n\u001b[32m----> \u001b[39m\u001b[32m1\u001b[39m \u001b[43ma1\u001b[49m\u001b[43m.\u001b[49m\u001b[43marea_of_triangle\u001b[49m(\u001b[32m0.5\u001b[39m, \u001b[32m3\u001b[39m,\u001b[32m2\u001b[39m)\n",
      "\u001b[31mAttributeError\u001b[39m: 'Account' object has no attribute 'area_of_triangle'"
     ]
    }
   ],
   "source": [
    "a1.area_of_triangle(0.5, 3,2)"
   ]
  },
  {
   "cell_type": "code",
   "execution_count": null,
   "id": "897f5461",
   "metadata": {},
   "outputs": [],
   "source": []
  },
  {
   "cell_type": "code",
   "execution_count": null,
   "id": "29f69e6f",
   "metadata": {},
   "outputs": [],
   "source": []
  }
 ],
 "metadata": {
  "kernelspec": {
   "display_name": "venv",
   "language": "python",
   "name": "python3"
  },
  "language_info": {
   "codemirror_mode": {
    "name": "ipython",
    "version": 3
   },
   "file_extension": ".py",
   "mimetype": "text/x-python",
   "name": "python",
   "nbconvert_exporter": "python",
   "pygments_lexer": "ipython3",
   "version": "3.12.10"
  }
 },
 "nbformat": 4,
 "nbformat_minor": 5
}
